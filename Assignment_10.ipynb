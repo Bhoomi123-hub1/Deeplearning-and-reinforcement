{
  "cells": [
    {
      "cell_type": "code",
      "execution_count": null,
      "id": "c37fe462",
      "metadata": {
        "id": "c37fe462"
      },
      "outputs": [],
      "source": [
        "from transformers import AutoTokenizer, AutoModelForSeq2SeqLM, pipeline\n",
        "import gradio as gr\n",
        "import torch"
      ]
    },
    {
      "cell_type": "code",
      "execution_count": null,
      "id": "02bda71e",
      "metadata": {
        "id": "02bda71e"
      },
      "outputs": [],
      "source": [
        "language_map = {\n",
        "    \"English\": \"eng_Latn\",\n",
        "    \"Hindi\": \"hin_Deva\",\n",
        "    \"Sanskrit\": \"san_Deva\",\n",
        "    \"Spanish\": \"spa_Latn\",\n",
        "    \"French\": \"fra_Latn\",\n",
        "    \"German\": \"deu_Latn\",\n",
        "    \"Tamil\": \"tam_Taml\",\n",
        "    \"Chinese\": \"zho_Hans\",\n",
        "    \"Japanese\": \"jpn_Jpan\"\n",
        "}"
      ]
    },
    {
      "cell_type": "code",
      "execution_count": null,
      "id": "c0239d21",
      "metadata": {
        "id": "c0239d21"
      },
      "outputs": [],
      "source": [
        "def translate(text, source_lang, target_lang):\n",
        "    if not text.strip():\n",
        "        return\n",
        "\n",
        "    src_code = language_map.get(source_lang)\n",
        "    tgt_code = language_map.get(target_lang)\n",
        "\n",
        "    translator = pipeline(\n",
        "        \"translation\",\n",
        "        model=model,\n",
        "        tokenizer=tokenizer,\n",
        "        src_lang=src_code,\n",
        "        tgt_lang=tgt_code,\n",
        "        max_length=400,\n",
        "        device=0 if torch.cuda.is_available() else -1\n",
        "    )\n",
        "\n",
        "    result = translator(text)\n",
        "    return result[0]['translation_text']\n"
      ]
    },
    {
      "cell_type": "code",
      "execution_count": null,
      "id": "88a90c8d",
      "metadata": {
        "id": "88a90c8d",
        "outputId": "256db464-f4ed-4db6-c496-087de2a89fab"
      },
      "outputs": [
        {
          "name": "stderr",
          "output_type": "stream",
          "text": [
            "Device set to use cpu\n"
          ]
        },
        {
          "name": "stdout",
          "output_type": "stream",
          "text": [
            "Original (English): The mind is everything. What you think, you become.\n",
            "Translated (Hindi): मन सब कुछ है जो आप सोचते हैं, आप बन जाते हैं।\n"
          ]
        }
      ],
      "source": [
        "\n",
        "text = \"The mind is everything. What you think, you become.\"\n",
        "source_lang = \"English\"\n",
        "target_lang = \"Hindi\"\n",
        "\n",
        "translated = translate(text, source_lang, target_lang)\n",
        "print(f\"Original ({source_lang}): {text}\")\n",
        "print(f\"Translated ({target_lang}): {translated}\")"
      ]
    }
  ],
  "metadata": {
    "kernelspec": {
      "display_name": "Python 3 (ipykernel)",
      "language": "python",
      "name": "python3"
    },
    "language_info": {
      "codemirror_mode": {
        "name": "ipython",
        "version": 3
      },
      "file_extension": ".py",
      "mimetype": "text/x-python",
      "name": "python",
      "nbconvert_exporter": "python",
      "pygments_lexer": "ipython3",
      "version": "3.9.13"
    },
    "colab": {
      "provenance": []
    }
  },
  "nbformat": 4,
  "nbformat_minor": 5
}